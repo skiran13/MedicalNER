{
  "cells": [
    {
      "cell_type": "code",
      "source": [
        "from google.colab import drive\n",
        "drive.mount('/content/drive')"
      ],
      "metadata": {
        "colab": {
          "base_uri": "https://localhost:8080/"
        },
        "id": "mclxCE960SGY",
        "outputId": "ea9b76e1-68b8-4dbd-82fa-dadfa4fa110c"
      },
      "execution_count": null,
      "outputs": [
        {
          "output_type": "stream",
          "name": "stdout",
          "text": [
            "Mounted at /content/drive\n"
          ]
        }
      ]
    },
    {
      "cell_type": "code",
      "source": [
        "%cd drive/MyDrive/NLP"
      ],
      "metadata": {
        "colab": {
          "base_uri": "https://localhost:8080/"
        },
        "id": "DpHQ7-9b0u5J",
        "outputId": "b01308ab-a900-462f-aeb0-eee7c4ffa4e5"
      },
      "execution_count": null,
      "outputs": [
        {
          "output_type": "stream",
          "name": "stdout",
          "text": [
            "/content/drive/MyDrive/NLP\n"
          ]
        }
      ]
    },
    {
      "metadata": {
        "_uuid": "d629ff2d2480ee46fbb7e2d37f6b5fab8052498a",
        "_cell_guid": "79c7e3d0-c299-4dcb-8224-4455121ee9b0",
        "trusted": true,
        "id": "Zo6SWyWazp9y"
      },
      "cell_type": "code",
      "source": [
        "pip install transformers==2.6.0"
      ],
      "execution_count": null,
      "outputs": []
    },
    {
      "cell_type": "markdown",
      "source": [
        "Opening and Reading Training data\n"
      ],
      "metadata": {
        "id": "IN-SAYdRWGB2"
      }
    },
    {
      "metadata": {
        "trusted": true,
        "colab": {
          "base_uri": "https://localhost:8080/",
          "height": 293
        },
        "id": "BO6nMHu_zp9z",
        "outputId": "b5eaeee5-b035-4549-c5b8-3de4ce3f6b5c"
      },
      "cell_type": "code",
      "source": [
        "import pandas as pd\n",
        "import numpy as np\n",
        "from tqdm import tqdm, trange\n",
        "\n",
        "data = pd.read_csv(\"bert.txt\", sep=\"\\t\").fillna(method=\"ffill\")\n",
        "data['tag'][0] = 'B-Chemical'\n",
        "data.head()"
      ],
      "execution_count": null,
      "outputs": [
        {
          "output_type": "stream",
          "name": "stderr",
          "text": [
            "/usr/local/lib/python3.7/dist-packages/ipykernel_launcher.py:6: SettingWithCopyWarning: \n",
            "A value is trying to be set on a copy of a slice from a DataFrame\n",
            "\n",
            "See the caveats in the documentation: https://pandas.pydata.org/pandas-docs/stable/user_guide/indexing.html#returning-a-view-versus-a-copy\n",
            "  \n"
          ]
        },
        {
          "output_type": "execute_result",
          "data": {
            "text/plain": [
              "   Sent_ID         Word         tag\n",
              "0        0   Selegiline  B-Chemical\n",
              "1        0            -           O\n",
              "2        0      induced           O\n",
              "3        0     postural   B-Disease\n",
              "4        0  hypotension   I-Disease"
            ],
            "text/html": [
              "\n",
              "  <div id=\"df-820b9e4d-dacc-4d51-8084-04f35000a2d1\">\n",
              "    <div class=\"colab-df-container\">\n",
              "      <div>\n",
              "<style scoped>\n",
              "    .dataframe tbody tr th:only-of-type {\n",
              "        vertical-align: middle;\n",
              "    }\n",
              "\n",
              "    .dataframe tbody tr th {\n",
              "        vertical-align: top;\n",
              "    }\n",
              "\n",
              "    .dataframe thead th {\n",
              "        text-align: right;\n",
              "    }\n",
              "</style>\n",
              "<table border=\"1\" class=\"dataframe\">\n",
              "  <thead>\n",
              "    <tr style=\"text-align: right;\">\n",
              "      <th></th>\n",
              "      <th>Sent_ID</th>\n",
              "      <th>Word</th>\n",
              "      <th>tag</th>\n",
              "    </tr>\n",
              "  </thead>\n",
              "  <tbody>\n",
              "    <tr>\n",
              "      <th>0</th>\n",
              "      <td>0</td>\n",
              "      <td>Selegiline</td>\n",
              "      <td>B-Chemical</td>\n",
              "    </tr>\n",
              "    <tr>\n",
              "      <th>1</th>\n",
              "      <td>0</td>\n",
              "      <td>-</td>\n",
              "      <td>O</td>\n",
              "    </tr>\n",
              "    <tr>\n",
              "      <th>2</th>\n",
              "      <td>0</td>\n",
              "      <td>induced</td>\n",
              "      <td>O</td>\n",
              "    </tr>\n",
              "    <tr>\n",
              "      <th>3</th>\n",
              "      <td>0</td>\n",
              "      <td>postural</td>\n",
              "      <td>B-Disease</td>\n",
              "    </tr>\n",
              "    <tr>\n",
              "      <th>4</th>\n",
              "      <td>0</td>\n",
              "      <td>hypotension</td>\n",
              "      <td>I-Disease</td>\n",
              "    </tr>\n",
              "  </tbody>\n",
              "</table>\n",
              "</div>\n",
              "      <button class=\"colab-df-convert\" onclick=\"convertToInteractive('df-820b9e4d-dacc-4d51-8084-04f35000a2d1')\"\n",
              "              title=\"Convert this dataframe to an interactive table.\"\n",
              "              style=\"display:none;\">\n",
              "        \n",
              "  <svg xmlns=\"http://www.w3.org/2000/svg\" height=\"24px\"viewBox=\"0 0 24 24\"\n",
              "       width=\"24px\">\n",
              "    <path d=\"M0 0h24v24H0V0z\" fill=\"none\"/>\n",
              "    <path d=\"M18.56 5.44l.94 2.06.94-2.06 2.06-.94-2.06-.94-.94-2.06-.94 2.06-2.06.94zm-11 1L8.5 8.5l.94-2.06 2.06-.94-2.06-.94L8.5 2.5l-.94 2.06-2.06.94zm10 10l.94 2.06.94-2.06 2.06-.94-2.06-.94-.94-2.06-.94 2.06-2.06.94z\"/><path d=\"M17.41 7.96l-1.37-1.37c-.4-.4-.92-.59-1.43-.59-.52 0-1.04.2-1.43.59L10.3 9.45l-7.72 7.72c-.78.78-.78 2.05 0 2.83L4 21.41c.39.39.9.59 1.41.59.51 0 1.02-.2 1.41-.59l7.78-7.78 2.81-2.81c.8-.78.8-2.07 0-2.86zM5.41 20L4 18.59l7.72-7.72 1.47 1.35L5.41 20z\"/>\n",
              "  </svg>\n",
              "      </button>\n",
              "      \n",
              "  <style>\n",
              "    .colab-df-container {\n",
              "      display:flex;\n",
              "      flex-wrap:wrap;\n",
              "      gap: 12px;\n",
              "    }\n",
              "\n",
              "    .colab-df-convert {\n",
              "      background-color: #E8F0FE;\n",
              "      border: none;\n",
              "      border-radius: 50%;\n",
              "      cursor: pointer;\n",
              "      display: none;\n",
              "      fill: #1967D2;\n",
              "      height: 32px;\n",
              "      padding: 0 0 0 0;\n",
              "      width: 32px;\n",
              "    }\n",
              "\n",
              "    .colab-df-convert:hover {\n",
              "      background-color: #E2EBFA;\n",
              "      box-shadow: 0px 1px 2px rgba(60, 64, 67, 0.3), 0px 1px 3px 1px rgba(60, 64, 67, 0.15);\n",
              "      fill: #174EA6;\n",
              "    }\n",
              "\n",
              "    [theme=dark] .colab-df-convert {\n",
              "      background-color: #3B4455;\n",
              "      fill: #D2E3FC;\n",
              "    }\n",
              "\n",
              "    [theme=dark] .colab-df-convert:hover {\n",
              "      background-color: #434B5C;\n",
              "      box-shadow: 0px 1px 3px 1px rgba(0, 0, 0, 0.15);\n",
              "      filter: drop-shadow(0px 1px 2px rgba(0, 0, 0, 0.3));\n",
              "      fill: #FFFFFF;\n",
              "    }\n",
              "  </style>\n",
              "\n",
              "      <script>\n",
              "        const buttonEl =\n",
              "          document.querySelector('#df-820b9e4d-dacc-4d51-8084-04f35000a2d1 button.colab-df-convert');\n",
              "        buttonEl.style.display =\n",
              "          google.colab.kernel.accessAllowed ? 'block' : 'none';\n",
              "\n",
              "        async function convertToInteractive(key) {\n",
              "          const element = document.querySelector('#df-820b9e4d-dacc-4d51-8084-04f35000a2d1');\n",
              "          const dataTable =\n",
              "            await google.colab.kernel.invokeFunction('convertToInteractive',\n",
              "                                                     [key], {});\n",
              "          if (!dataTable) return;\n",
              "\n",
              "          const docLinkHtml = 'Like what you see? Visit the ' +\n",
              "            '<a target=\"_blank\" href=https://colab.research.google.com/notebooks/data_table.ipynb>data table notebook</a>'\n",
              "            + ' to learn more about interactive tables.';\n",
              "          element.innerHTML = '';\n",
              "          dataTable['output_type'] = 'display_data';\n",
              "          await google.colab.output.renderOutput(dataTable, element);\n",
              "          const docLink = document.createElement('div');\n",
              "          docLink.innerHTML = docLinkHtml;\n",
              "          element.appendChild(docLink);\n",
              "        }\n",
              "      </script>\n",
              "    </div>\n",
              "  </div>\n",
              "  "
            ]
          },
          "metadata": {},
          "execution_count": 206
        }
      ]
    },
    {
      "cell_type": "markdown",
      "source": [
        "Opening and reading validation data"
      ],
      "metadata": {
        "id": "Pl10emqoWJY2"
      }
    },
    {
      "cell_type": "code",
      "source": [
        "val_data = pd.read_csv(\"bert_val.txt\", sep=\"\\t\").fillna(method=\"ffill\")\n",
        "val_data[:10]"
      ],
      "metadata": {
        "id": "zE0o1MAidXVV"
      },
      "execution_count": null,
      "outputs": []
    },
    {
      "cell_type": "markdown",
      "source": [
        "##Preprocessing "
      ],
      "metadata": {
        "id": "RKZ4vriMWme4"
      }
    },
    {
      "cell_type": "markdown",
      "source": [
        "Segregating the training data sentence-wise"
      ],
      "metadata": {
        "id": "2omyfetRWP3h"
      }
    },
    {
      "metadata": {
        "trusted": true,
        "id": "mP-QPJGbzp91"
      },
      "cell_type": "code",
      "source": [
        "class GetSentence(object):\n",
        "\n",
        "    def __init__(self, data):\n",
        "        self.n_sent = 1\n",
        "        self.data = data\n",
        "        self.empty = False\n",
        "     \n",
        "        agg_func = lambda s: [(w, t) for w, t in zip(s[\"Word\"].values.tolist(),\n",
        "                                                           s[\"tag\"].values.tolist())]\n",
        "        self.grouped = self.data.groupby(\"Sent_ID\").apply(agg_func)\n",
        "        self.sentences = [s for s in self.grouped]\n",
        "\n",
        "    def get_next(self):\n",
        "        try:\n",
        "            s = self.grouped[\"{}\".format(self.n_sent)]\n",
        "            self.n_sent += 1\n",
        "            return s\n",
        "        except:\n",
        "            return None"
      ],
      "execution_count": null,
      "outputs": []
    },
    {
      "metadata": {
        "trusted": true,
        "id": "z52TECrCzp92"
      },
      "cell_type": "code",
      "source": [
        "getter = GetSentence(data)\n",
        "v_getter = GetSentence(val_data)"
      ],
      "execution_count": null,
      "outputs": []
    },
    {
      "metadata": {
        "trusted": true,
        "id": "qAlLm7S7zp92"
      },
      "cell_type": "code",
      "source": [
        "sentences = [[word[0] for word in sentence] for sentence in getter.sentences]\n",
        "sentences[0]\n",
        "v_sentences = [[word[0] for word in sentence] for sentence in v_getter.sentences]\n"
      ],
      "execution_count": null,
      "outputs": []
    },
    {
      "cell_type": "markdown",
      "source": [
        "Extracting labels separately"
      ],
      "metadata": {
        "id": "cR3LzzdRWip4"
      }
    },
    {
      "metadata": {
        "trusted": true,
        "id": "3VOkI68Kzp93"
      },
      "cell_type": "code",
      "source": [
        "labels = [[s[1] for s in sentence] for sentence in getter.sentences]\n",
        "print(labels[0])\n",
        "v_labels = [[s[1] for s in sentence] for sentence in v_getter.sentences]\n",
        "v_labels[0]\n"
      ],
      "execution_count": null,
      "outputs": []
    },
    {
      "metadata": {
        "trusted": true,
        "id": "He2P-F-xzp95"
      },
      "cell_type": "code",
      "source": [
        "tag_values = list(set(data[\"tag\"].values))\n",
        "tag_values.append(\"PAD\")\n",
        "tag2idx = {t: i for i, t in enumerate(tag_values)}\n",
        "\n",
        "#Adding Padding at the end of each sentence\n",
        "\n",
        "v_tag_values = list(set(val_data[\"tag\"].values))\n",
        "v_tag_values.append(\"PAD\")\n",
        "v_tag2idx = {t: i for i, t in enumerate(tag_values)}"
      ],
      "execution_count": null,
      "outputs": []
    },
    {
      "cell_type": "code",
      "source": [
        "tag_values"
      ],
      "metadata": {
        "colab": {
          "base_uri": "https://localhost:8080/"
        },
        "id": "zLaSnPFECx7A",
        "outputId": "31cb280c-16b7-488d-fd9b-69224fa6500b"
      },
      "execution_count": null,
      "outputs": [
        {
          "output_type": "execute_result",
          "data": {
            "text/plain": [
              "['O', 'B-Chemical', 'I-Disease', 'I-Chemical', 'B-Disease', 'PAD']"
            ]
          },
          "metadata": {},
          "execution_count": 213
        }
      ]
    },
    {
      "metadata": {
        "id": "jr8C_Kvmzp95"
      },
      "cell_type": "markdown",
      "source": [
        "Preprocessing the sentence and labels to use with pytorch and transformers"
      ]
    },
    {
      "metadata": {
        "trusted": true,
        "colab": {
          "base_uri": "https://localhost:8080/",
          "height": 35
        },
        "id": "T1GL1uLGzp98",
        "outputId": "6f07f0fc-20dc-400b-8c4d-fe46cf829bd5"
      },
      "cell_type": "code",
      "source": [
        "import torch\n",
        "from torch.utils.data import TensorDataset, DataLoader, RandomSampler, SequentialSampler\n",
        "from transformers import BertTokenizer, BertConfig, AlbertTokenizer, AlbertConfig, RobertaConfig, RobertaTokenizer, AutoTokenizer\n",
        "\n",
        "from keras.preprocessing.sequence import pad_sequences\n",
        "from sklearn.model_selection import train_test_split\n",
        "\n",
        "torch.__version__"
      ],
      "execution_count": null,
      "outputs": [
        {
          "output_type": "execute_result",
          "data": {
            "text/plain": [
              "'1.10.0+cu111'"
            ],
            "application/vnd.google.colaboratory.intrinsic+json": {
              "type": "string"
            }
          },
          "metadata": {},
          "execution_count": 214
        }
      ]
    },
    {
      "cell_type": "markdown",
      "source": [
        "Setting Batch size and sequence length"
      ],
      "metadata": {
        "id": "NHHnn0LkXS1C"
      }
    },
    {
      "metadata": {
        "trusted": true,
        "id": "9pktu-udzp9-"
      },
      "cell_type": "code",
      "source": [
        "MAX_LEN = 75\n",
        "bs = 32\n",
        "#batch size = bs\n"
      ],
      "execution_count": null,
      "outputs": []
    },
    {
      "metadata": {
        "trusted": true,
        "id": "pm6aD0w1zp9_"
      },
      "cell_type": "code",
      "source": [
        "device = torch.device(\"cuda\" if torch.cuda.is_available() else \"cpu\")\n",
        "n_gpu = torch.cuda.device_count()"
      ],
      "execution_count": null,
      "outputs": []
    },
    {
      "metadata": {
        "trusted": true,
        "colab": {
          "base_uri": "https://localhost:8080/",
          "height": 35
        },
        "id": "i9ZNHyYIzp-A",
        "outputId": "7f7f03f3-d919-44db-c228-99a561549417"
      },
      "cell_type": "code",
      "source": [
        "torch.cuda.get_device_name(0)\n"
      ],
      "execution_count": null,
      "outputs": [
        {
          "output_type": "execute_result",
          "data": {
            "text/plain": [
              "'Tesla K80'"
            ],
            "application/vnd.google.colaboratory.intrinsic+json": {
              "type": "string"
            }
          },
          "metadata": {},
          "execution_count": 217
        }
      ]
    },
    {
      "cell_type": "markdown",
      "source": [
        "Initializing Tokenizer according to the appropriate transformer model"
      ],
      "metadata": {
        "id": "zRBsH-raXhG7"
      }
    },
    {
      "metadata": {
        "trusted": true,
        "id": "RZKnIJfdzp-B",
        "colab": {
          "base_uri": "https://localhost:8080/",
          "height": 81,
          "referenced_widgets": [
            "aee32f9e25794de48fb87a2aa476a83b",
            "a0f8ba45260c4c9da576d2dc8cfd65f5",
            "1d041416d26a4046a97df741c34231e4",
            "b2d308d8648342de91e248fb0ae2874a",
            "aa4905b8876548e295af6631df345cf2",
            "5a104f0086664855a88e1b786210eb54",
            "20cb844af83a4bc8ab6d5a684db40797",
            "721397911c0f4f51a665ff5deb77276e",
            "9cd8bd05d9404357996ad76cbaaee9e0",
            "046802dae99d48c19300d0a83e316b0b",
            "3780460442f4493387d5a1a12c2660c3",
            "2b13a271835348a59a095420c403fdc5",
            "61037ff72b0e497792caa4b7ffda92e3",
            "2780562ef96c4410b2cc122d7a8ac76b",
            "bda14f35ce4841d188c2c3832db5c527",
            "eda422effc294155b249a28df2d846c3",
            "94562ac5b2bb451c94ece6d85c319d34",
            "3cb30fab5b354bce9473bed74210a771",
            "75978859459b4fd1b9ae5f8c908ba3a3",
            "17b169fd49774218b27cd8e29cbee8e9",
            "e1ff5f29927d4a3fae393ec61daf5df4",
            "6a669686d1ee470a8de3585f6e490eff"
          ]
        },
        "outputId": "0fbab819-c4a9-4903-caff-ea0699c71b30"
      },
      "cell_type": "code",
      "source": [
        "# tokenizer = BertTokenizer.from_pretrained('bert-base-cased', do_lower_case=False) \n",
        "\n",
        "# tokenizer = RobertaTokenizer.from_pretrained('roberta-base', do_lower_case=False) \n",
        "\n",
        "tokenizer = AutoTokenizer.from_pretrained(\"microsoft/BiomedNLP-PubMedBERT-base-uncased-abstract\", do_lower_case=True)\n",
        "\n",
        "# tokenizer = AutoTokenizer.from_pretrained(\"dmis-lab/biobert-base-cased-v1.1\", do_lower_case=False)\n"
      ],
      "execution_count": null,
      "outputs": [
        {
          "output_type": "display_data",
          "data": {
            "text/plain": [
              "Downloading:   0%|          | 0.00/337 [00:00<?, ?B/s]"
            ],
            "application/vnd.jupyter.widget-view+json": {
              "version_major": 2,
              "version_minor": 0,
              "model_id": "aee32f9e25794de48fb87a2aa476a83b"
            }
          },
          "metadata": {}
        },
        {
          "output_type": "display_data",
          "data": {
            "text/plain": [
              "Downloading:   0%|          | 0.00/225k [00:00<?, ?B/s]"
            ],
            "application/vnd.jupyter.widget-view+json": {
              "version_major": 2,
              "version_minor": 0,
              "model_id": "2b13a271835348a59a095420c403fdc5"
            }
          },
          "metadata": {}
        }
      ]
    },
    {
      "cell_type": "markdown",
      "source": [
        "Tokenizing sentences"
      ],
      "metadata": {
        "id": "0TMqj9lDXrGs"
      }
    },
    {
      "metadata": {
        "trusted": true,
        "id": "e9hCjx5ozp-C"
      },
      "cell_type": "code",
      "source": [
        "\n",
        "def tokenize_and_preserve_labels(sentence, text_labels):\n",
        "    tokenized_sentence = []\n",
        "    labels = []\n",
        "\n",
        "    for word, label in zip(sentence, text_labels):\n",
        "\n",
        "        # Tokenizing the word\n",
        "        tokenized_wingord = tokenizer.tokenize(word)\n",
        "        n_subwords = len(tokenized_word)\n",
        "\n",
        "        # Adding the tokenized word to a tokenized word list\n",
        "        tokenized_sentence.extend(tokenized_word)\n",
        "\n",
        "        # Add the same label to a label list\n",
        "        labels.extend([label] * n_subwords)\n",
        "\n",
        "    return tokenized_sentence, labels \n"
      ],
      "execution_count": null,
      "outputs": []
    },
    {
      "metadata": {
        "trusted": true,
        "id": "yTC28FBtzp-D"
      },
      "cell_type": "code",
      "source": [
        "tokenized_texts_and_labels = [\n",
        "    tokenize_and_preserve_labels(sent, labs)\n",
        "    for sent, labs in zip(sentences, labels)\n",
        "]\n",
        "v_tokenized_texts_and_labels = [\n",
        "    tokenize_and_preserve_labels(sent, labs)\n",
        "    for sent, labs in zip(v_sentences, v_labels)\n",
        "]"
      ],
      "execution_count": null,
      "outputs": []
    },
    {
      "cell_type": "code",
      "source": [
        "tokenized_texts_and_labels[0]"
      ],
      "metadata": {
        "id": "JnUnPS2EDq9Z"
      },
      "execution_count": null,
      "outputs": []
    },
    {
      "metadata": {
        "trusted": true,
        "id": "GV7usO3Bzp-E"
      },
      "cell_type": "code",
      "source": [
        "tokenized_texts = [token_label_pair[0] for token_label_pair in tokenized_texts_and_labels]\n",
        "labels = [token_label_pair[1] for token_label_pair in tokenized_texts_and_labels]\n",
        "\n",
        "v_tokenized_texts = [token_label_pair[0] for token_label_pair in v_tokenized_texts_and_labels]\n",
        "v_labels = [token_label_pair[1] for token_label_pair in v_tokenized_texts_and_labels]"
      ],
      "execution_count": null,
      "outputs": []
    },
    {
      "metadata": {
        "trusted": true,
        "id": "c9ujZWghzp-F"
      },
      "cell_type": "code",
      "source": [
        "input_ids = pad_sequences([tokenizer.convert_tokens_to_ids(txt) for txt in tokenized_texts],\n",
        "                          maxlen=MAX_LEN, dtype=\"long\", value=0.0,\n",
        "                          truncating=\"post\", padding=\"post\")\n",
        "\n",
        "v_input_ids = pad_sequences([tokenizer.convert_tokens_to_ids(txt) for txt in v_tokenized_texts],\n",
        "                          maxlen=MAX_LEN, dtype=\"long\", value=0.0,\n",
        "                          truncating=\"post\", padding=\"post\")"
      ],
      "execution_count": null,
      "outputs": []
    },
    {
      "cell_type": "code",
      "source": [
        "len(labels)"
      ],
      "metadata": {
        "colab": {
          "base_uri": "https://localhost:8080/"
        },
        "id": "jbzYB-v1l1KD",
        "outputId": "f8708165-9e39-45d3-ecca-b79b96e9b61c"
      },
      "execution_count": null,
      "outputs": [
        {
          "output_type": "execute_result",
          "data": {
            "text/plain": [
              "4560"
            ]
          },
          "metadata": {},
          "execution_count": 162
        }
      ]
    },
    {
      "metadata": {
        "trusted": true,
        "id": "QQugR61ozp-F"
      },
      "cell_type": "code",
      "source": [
        "tags = pad_sequences([[tag2idx.get(l) for l in lab] for lab in labels],\n",
        "                     maxlen=MAX_LEN, value=tag2idx[\"PAD\"], padding=\"post\",\n",
        "                     dtype=\"long\", truncating=\"post\")\n",
        "\n",
        "v_tags = pad_sequences([[tag2idx.get(l) for l in lab] for lab in v_labels],\n",
        "                     maxlen=MAX_LEN, value=tag2idx[\"PAD\"], padding=\"post\",\n",
        "                     dtype=\"long\", truncating=\"post\")"
      ],
      "execution_count": null,
      "outputs": []
    },
    {
      "metadata": {
        "trusted": true,
        "id": "pcD17aTczp-G"
      },
      "cell_type": "code",
      "source": [
        "# initializing attenation masks \n",
        "attention_masks = [[float(i != 0.0) for i in ii] for ii in input_ids]\n",
        "\n",
        "v_attention_masks = [[float(i != 0.0) for i in ii] for ii in v_input_ids]"
      ],
      "execution_count": null,
      "outputs": []
    },
    {
      "cell_type": "code",
      "source": [
        "attention_masks"
      ],
      "metadata": {
        "id": "441FKaVOyPa_"
      },
      "execution_count": null,
      "outputs": []
    },
    {
      "cell_type": "markdown",
      "source": [
        "Validation data split from training data"
      ],
      "metadata": {
        "id": "1y_Jpz2Pbk1b"
      }
    },
    {
      "metadata": {
        "trusted": true,
        "id": "B_h1J983zp-H"
      },
      "cell_type": "code",
      "source": [
        "\n",
        "tr_inputs, val_inputs, tr_tags, val_tags = train_test_split(input_ids, tags,\n",
        "                                                            random_state=2018, test_size=0.1)\n",
        "tr_masks, val_masks, _, _ = train_test_split(attention_masks, input_ids,\n",
        "                                             random_state=2018, test_size=0.1)"
      ],
      "execution_count": null,
      "outputs": []
    },
    {
      "cell_type": "markdown",
      "source": [
        "This cell can be run this for a separate validation set that is not split from the training data"
      ],
      "metadata": {
        "id": "4KCdYIM75Nd3"
      }
    },
    {
      "cell_type": "code",
      "source": [
        "tr_inputs = input_ids\n",
        "val_inputs = v_input_ids\n",
        "tr_tags = tags\n",
        "val_tags = v_tags\n",
        "tr_masks = attention_masks\n",
        "val_masks = v_attention_masks"
      ],
      "metadata": {
        "id": "8HnahqXBnYoW"
      },
      "execution_count": null,
      "outputs": []
    },
    {
      "cell_type": "markdown",
      "source": [
        "Converting input to torch tensors"
      ],
      "metadata": {
        "id": "t2XfgzFpbwea"
      }
    },
    {
      "metadata": {
        "trusted": true,
        "id": "1g4f2Mp7zp-I"
      },
      "cell_type": "code",
      "source": [
        "\n",
        "tr_inputs = torch.tensor(tr_inputs)\n",
        "val_inputs = torch.tensor(val_inputs)\n",
        "tr_tags = torch.tensor(tr_tags)\n",
        "val_tags = torch.tensor(val_tags)\n",
        "tr_masks = torch.tensor(tr_masks)\n",
        "val_masks = torch.tensor(val_masks)\n"
      ],
      "execution_count": null,
      "outputs": []
    },
    {
      "metadata": {
        "trusted": true,
        "id": "wkAosyCbzp-I"
      },
      "cell_type": "code",
      "source": [
        "\n",
        "#shuffling training data\n",
        "train_data = TensorDataset(tr_inputs, tr_masks, tr_tags)\n",
        "train_sampler = RandomSampler(train_data)\n",
        "train_dataloader = DataLoader(train_data, sampler=train_sampler, batch_size=bs)\n",
        "\n",
        "valid_data = TensorDataset(val_inputs, val_masks, val_tags)\n",
        "valid_sampler = SequentialSampler(valid_data)\n",
        "valid_dataloader = DataLoader(valid_data, sampler=valid_sampler, batch_size=bs)\n"
      ],
      "execution_count": null,
      "outputs": []
    },
    {
      "metadata": {
        "id": "ae6j48mizp-J"
      },
      "cell_type": "markdown",
      "source": [
        "#Fine Tuning"
      ]
    },
    {
      "metadata": {
        "trusted": true,
        "colab": {
          "base_uri": "https://localhost:8080/",
          "height": 35
        },
        "id": "l8d9kxfIzp-J",
        "outputId": "593356ce-59f4-4271-f6e1-769373ba104d"
      },
      "cell_type": "code",
      "source": [
        "import transformers\n",
        "from transformers import BertForTokenClassification, AdamW, AlbertForTokenClassification, RobertaForTokenClassification, AutoModelForTokenClassification, AutoConfig\n",
        "\n",
        "transformers.__version__\n"
      ],
      "execution_count": null,
      "outputs": [
        {
          "output_type": "execute_result",
          "data": {
            "text/plain": [
              "'2.6.0'"
            ],
            "application/vnd.google.colaboratory.intrinsic+json": {
              "type": "string"
            }
          },
          "metadata": {},
          "execution_count": 228
        }
      ]
    },
    {
      "cell_type": "markdown",
      "source": [
        "Initializing and loading the Pretrained Transformer language model from the HuggingFace Library"
      ],
      "metadata": {
        "id": "E16sW7L0ckWC"
      }
    },
    {
      "metadata": {
        "trusted": true,
        "colab": {
          "base_uri": "https://localhost:8080/",
          "height": 49,
          "referenced_widgets": [
            "fc614ea2f0d24e81a102ddcb78154705",
            "92f4a977aa2f4b188002af7edb87e370",
            "a7cda059c63d40f1babd6fb3d4a6f33b",
            "d471789d3cc04c81b1c3165d824fecbc",
            "11d95b15fc0240d29830703070e9fe9f",
            "651f15fff0cf4c5f833c3537c18d8489",
            "e84b6be45c5242f9817607abf30161b1",
            "7f979935d8d14d5797044684a6720eba",
            "e8c9f5caee4b4e538bc35cee217848a6",
            "e5815f33f1564ab882000ff65a00b890",
            "746f21bd3bab41d29aada71f7bcf7994"
          ]
        },
        "id": "m9MPIKuRzp-K",
        "outputId": "94e64c50-8470-4610-9674-f491fc99d231"
      },
      "cell_type": "code",
      "source": [
        "# model = BertForTokenClassification.from_pretrained(\n",
        "#     \"bert-base-cased\",\n",
        "#     num_labels=len(tag2idx),\n",
        "#     output_attentions = False,\n",
        "#     output_hidden_states = False\n",
        "# )\n",
        "\n",
        "# model = AlbertForTokenClassification.from_pretrained(\n",
        "#     \"albert-base-v1\",\n",
        "#     num_labels=len(tag2idx),\n",
        "#     output_attentions = False,\n",
        "#     output_hidden_states = False\n",
        "# )\n",
        "\n",
        "# model = RobertaForTokenClassification.from_pretrained(\n",
        "#     \"roberta-base\",\n",
        "#     num_labels=len(tag2idx),\n",
        "#     output_attentions = False,\n",
        "#     output_hidden_states = False\n",
        "# )\n",
        "\n",
        "model_name = \"microsoft/BiomedNLP-PubMedBERT-base-uncased-abstract\"\n",
        "# model_name = \"bionlp/bluebert_pubmed_uncased_L-24_H-1024_A-16\"\n",
        "\n",
        "# model_name = \"dmis-lab/biobert-base-cased-v1.1\"\n",
        "\n",
        "config = AutoConfig.from_pretrained(model_name)\n",
        "config.num_labels = len(tag2idx)\n",
        "config.output_attentions = False\n",
        "config.output_hidden_states = False\n",
        "model = AutoModelForTokenClassification.from_pretrained(\n",
        "    model_name,\n",
        "    config=config\n",
        ")\n",
        "\n"
      ],
      "execution_count": null,
      "outputs": [
        {
          "output_type": "display_data",
          "data": {
            "text/plain": [
              "Downloading:   0%|          | 0.00/440M [00:00<?, ?B/s]"
            ],
            "application/vnd.jupyter.widget-view+json": {
              "version_major": 2,
              "version_minor": 0,
              "model_id": "fc614ea2f0d24e81a102ddcb78154705"
            }
          },
          "metadata": {}
        }
      ]
    },
    {
      "metadata": {
        "trusted": true,
        "id": "Y4m1MonKzp-K"
      },
      "cell_type": "code",
      "source": [
        "model.cuda();"
      ],
      "execution_count": null,
      "outputs": []
    },
    {
      "metadata": {
        "id": "qfZF5-6Pzp-L"
      },
      "cell_type": "markdown",
      "source": [
        "Fine-tuning "
      ]
    },
    {
      "metadata": {
        "trusted": true,
        "id": "INMVPO-Czp-L"
      },
      "cell_type": "code",
      "source": [
        "FULL_FINETUNING = True\n",
        "if FULL_FINETUNING:\n",
        "    param_optimizer = list(model.named_parameters())\n",
        "    no_decay = ['bias', 'gamma', 'beta']\n",
        "    optimizer_grouped_parameters = [\n",
        "        {'params': [p for n, p in param_optimizer if not any(nd in n for nd in no_decay)],\n",
        "         'weight_decay_rate': 0.01},\n",
        "        {'params': [p for n, p in param_optimizer if any(nd in n for nd in no_decay)],\n",
        "         'weight_decay_rate': 0.0}\n",
        "    ]\n",
        "else:\n",
        "    param_optimizer = list(model.classifier.named_parameters())\n",
        "    optimizer_grouped_parameters = [{\"params\": [p for n, p in param_optimizer]}]\n",
        "\n",
        "optimizer = AdamW(\n",
        "    optimizer_grouped_parameters,\n",
        "    lr=3e-5,\n",
        "    eps=1e-8\n",
        ")\n"
      ],
      "execution_count": null,
      "outputs": []
    },
    {
      "metadata": {
        "trusted": true,
        "id": "uE2yFWN0zp-L"
      },
      "cell_type": "code",
      "source": [
        "#setting learning rate and number of steps\n",
        "from transformers import get_linear_schedule_with_warmup\n",
        "\n",
        "epochs = 8\n",
        "max_grad_norm = 1.0\n",
        "\n",
        "total_steps = len(train_dataloader) * epochs\n",
        "\n",
        "\n",
        "scheduler = get_linear_schedule_with_warmup(\n",
        "    optimizer,\n",
        "    num_warmup_steps=0,\n",
        "    num_training_steps=total_steps\n",
        ")"
      ],
      "execution_count": null,
      "outputs": []
    },
    {
      "metadata": {
        "id": "EdEhlPXmzp-M"
      },
      "cell_type": "markdown",
      "source": [
        "Fit bert for ner"
      ]
    },
    {
      "metadata": {
        "trusted": true,
        "id": "CzBjI5pUzp-O"
      },
      "cell_type": "code",
      "source": [
        "!pip install seqeval\n"
      ],
      "execution_count": null,
      "outputs": []
    },
    {
      "metadata": {
        "trusted": true,
        "id": "IricYNHBzp-P"
      },
      "cell_type": "code",
      "source": [
        "from seqeval.metrics import f1_score\n",
        "\n",
        "def flat_accuracy(preds, labels):\n",
        "    pred_flat = np.argmax(preds, axis=2).flatten()\n",
        "    labels_flat = labels.flatten()\n",
        "    return np.sum(pred_flat == labels_flat) / len(labels_flat)\n"
      ],
      "execution_count": null,
      "outputs": []
    },
    {
      "cell_type": "markdown",
      "source": [
        "Fine-tuning on the tranformer model"
      ],
      "metadata": {
        "id": "00vncxUWdf1f"
      }
    },
    {
      "metadata": {
        "trusted": true,
        "colab": {
          "base_uri": "https://localhost:8080/"
        },
        "id": "_kpABhq6zp-P",
        "outputId": "5bcaf487-d24d-4f65-99a9-e84d9a959022"
      },
      "cell_type": "code",
      "source": [
        "## Storing the average loss after each epoch \n",
        "loss_values, validation_loss_values = [], []\n",
        "\n",
        "for _ in trange(epochs, desc=\"Epoch\"):\n",
        "    \n",
        "\n",
        "    # Putting the model into training mode.\n",
        "    model.train()\n",
        "    \n",
        "    total_loss = 0\n",
        "\n",
        "    \n",
        "    for step, batch in enumerate(train_dataloader):\n",
        "        batch = tuple(t.to(device) for t in batch)\n",
        "        b_input_ids, b_input_mask, b_labels = batch\n",
        "        model.zero_grad()\n",
        "        outputs = model(b_input_ids, token_type_ids=None,\n",
        "                        attention_mask=b_input_mask, labels=b_labels)\n",
        "        loss = outputs[0]\n",
        "        loss.backward()\n",
        "        total_loss += loss.item()\n",
        "        torch.nn.utils.clip_grad_norm_(parameters=model.parameters(), max_norm=max_grad_norm)\n",
        "        optimizer.step()\n",
        "        scheduler.step()\n",
        "\n",
        "   \n",
        "    avg_train_loss = total_loss / len(train_dataloader)\n",
        "    print(\"Average train loss: {}\".format(avg_train_loss))\n",
        "\n",
        "    # Store the loss value for plotting the learning curve.\n",
        "    loss_values.append(avg_train_loss)\n",
        "\n",
        "\n",
        "  \n",
        "\n",
        "    # Validation after each training step\n",
        "    model.eval()\n",
        "    eval_loss, eval_accuracy = 0, 0\n",
        "    nb_eval_steps, nb_eval_examples = 0, 0\n",
        "    predictions , true_labels = [], []\n",
        "    for batch in valid_dataloader:\n",
        "        batch = tuple(t.to(device) for t in batch)\n",
        "        b_input_ids, b_input_mask, b_labels = batch\n",
        "\n",
        "        with torch.no_grad():\n",
        "            outputs = model(b_input_ids, token_type_ids=None,\n",
        "                            attention_mask=b_input_mask, labels=b_labels)\n",
        "        \n",
        "        logits = outputs[1].detach().cpu().numpy()\n",
        "        label_ids = b_labels.to('cpu').numpy()\n",
        "\n",
        "        \n",
        "        eval_loss += outputs[0].mean().item()\n",
        "        eval_accuracy += flat_accuracy(logits, label_ids)\n",
        "        predictions.extend([list(p) for p in np.argmax(logits, axis=2)])\n",
        "        true_labels.extend(label_ids)\n",
        "\n",
        "        nb_eval_examples += b_input_ids.size(0)\n",
        "        nb_eval_steps += 1\n",
        "\n",
        "    eval_loss = eval_loss / nb_eval_steps\n",
        "    validation_loss_values.append(eval_loss)\n",
        "    print(\"Validation loss: {}\".format(eval_loss))\n",
        "    print(\"Validation Accuracy: {}\".format(eval_accuracy/nb_eval_steps))\n",
        "    pred_tags = [tag_values[p_i] for p, l in zip(predictions, true_labels)\n",
        "                                 for p_i, l_i in zip(p, l) if tag_values[l_i] != \"PAD\"]\n",
        "    valid_tags = [tag_values[l_i] for l in true_labels\n",
        "                                  for l_i in l if tag_values[l_i] != \"PAD\"]\n",
        "    print(\"Validation F1-Score: {}\".format(f1_score([pred_tags], [valid_tags])))\n",
        "    print()\n"
      ],
      "execution_count": null,
      "outputs": [
        {
          "output_type": "stream",
          "name": "stderr",
          "text": [
            "\rEpoch:   0%|          | 0/8 [00:00<?, ?it/s]"
          ]
        },
        {
          "output_type": "stream",
          "name": "stdout",
          "text": [
            "Average train loss: 0.2258493368939836\n"
          ]
        },
        {
          "output_type": "stream",
          "name": "stderr",
          "text": [
            "\rEpoch:  12%|█▎        | 1/8 [01:54<13:18, 114.06s/it]"
          ]
        },
        {
          "output_type": "stream",
          "name": "stdout",
          "text": [
            "Validation loss: 0.08162307565410933\n",
            "Validation Accuracy: 0.33869444444444446\n",
            "Validation F1-Score: 0.8680373831775701\n",
            "\n",
            "Average train loss: 0.06482879066652106\n"
          ]
        },
        {
          "output_type": "stream",
          "name": "stderr",
          "text": [
            "\rEpoch:  25%|██▌       | 2/8 [03:47<11:22, 113.82s/it]"
          ]
        },
        {
          "output_type": "stream",
          "name": "stdout",
          "text": [
            "Validation loss: 0.05600529151658217\n",
            "Validation Accuracy: 0.34211111111111114\n",
            "Validation F1-Score: 0.9207576343254735\n",
            "\n",
            "Average train loss: 0.033753988210314\n"
          ]
        },
        {
          "output_type": "stream",
          "name": "stderr",
          "text": [
            "\rEpoch:  38%|███▊      | 3/8 [05:41<09:28, 113.78s/it]"
          ]
        },
        {
          "output_type": "stream",
          "name": "stdout",
          "text": [
            "Validation loss: 0.05850631271799405\n",
            "Validation Accuracy: 0.3419444444444445\n",
            "Validation F1-Score: 0.9257142857142858\n",
            "\n",
            "Average train loss: 0.01905732480231528\n"
          ]
        },
        {
          "output_type": "stream",
          "name": "stderr",
          "text": [
            "\rEpoch:  50%|█████     | 4/8 [07:35<07:34, 113.70s/it]"
          ]
        },
        {
          "output_type": "stream",
          "name": "stdout",
          "text": [
            "Validation loss: 0.06343692075461149\n",
            "Validation Accuracy: 0.3423055555555556\n",
            "Validation F1-Score: 0.9364651520985753\n",
            "\n",
            "Average train loss: 0.011427942251465319\n"
          ]
        },
        {
          "output_type": "stream",
          "name": "stderr",
          "text": [
            "\rEpoch:  62%|██████▎   | 5/8 [09:28<05:40, 113.66s/it]"
          ]
        },
        {
          "output_type": "stream",
          "name": "stdout",
          "text": [
            "Validation loss: 0.07044846328596274\n",
            "Validation Accuracy: 0.3430555555555556\n",
            "Validation F1-Score: 0.9414955443626501\n",
            "\n",
            "Average train loss: 0.007230493461834122\n"
          ]
        },
        {
          "output_type": "stream",
          "name": "stderr",
          "text": [
            "\rEpoch:  75%|███████▌  | 6/8 [11:22<03:47, 113.61s/it]"
          ]
        },
        {
          "output_type": "stream",
          "name": "stdout",
          "text": [
            "Validation loss: 0.06898140671352546\n",
            "Validation Accuracy: 0.34341666666666665\n",
            "Validation F1-Score: 0.9490470633994555\n",
            "\n",
            "Average train loss: 0.004764618991437375\n"
          ]
        },
        {
          "output_type": "stream",
          "name": "stderr",
          "text": [
            "\rEpoch:  88%|████████▊ | 7/8 [13:15<01:53, 113.64s/it]"
          ]
        },
        {
          "output_type": "stream",
          "name": "stdout",
          "text": [
            "Validation loss: 0.07596090917165081\n",
            "Validation Accuracy: 0.3432777777777778\n",
            "Validation F1-Score: 0.9472049689440993\n",
            "\n",
            "Average train loss: 0.004001128122024599\n"
          ]
        },
        {
          "output_type": "stream",
          "name": "stderr",
          "text": [
            "Epoch: 100%|██████████| 8/8 [15:09<00:00, 113.68s/it]"
          ]
        },
        {
          "output_type": "stream",
          "name": "stdout",
          "text": [
            "Validation loss: 0.07698944254467885\n",
            "Validation Accuracy: 0.3432222222222222\n",
            "Validation F1-Score: 0.9447663190421013\n",
            "\n"
          ]
        },
        {
          "output_type": "stream",
          "name": "stderr",
          "text": [
            "\n"
          ]
        }
      ]
    },
    {
      "cell_type": "markdown",
      "source": [
        "Plotting the training and validation loss curve"
      ],
      "metadata": {
        "id": "sZxCK3KJeh8D"
      }
    },
    {
      "metadata": {
        "trusted": true,
        "colab": {
          "base_uri": "https://localhost:8080/",
          "height": 427
        },
        "id": "3ZhfZ0NGzp-R",
        "outputId": "890f5780-0f67-4078-9e53-eab6cb424fc5"
      },
      "cell_type": "code",
      "source": [
        "import matplotlib.pyplot as plt\n",
        "%matplotlib inline\n",
        "\n",
        "import seaborn as sns\n",
        "\n",
        "\n",
        "sns.set(style='darkgrid')\n",
        "sns.set(font_scale=1.5)\n",
        "plt.rcParams[\"figure.figsize\"] = (12,6)\n",
        "\n",
        "\n",
        "plt.plot(loss_values, 'b-o', label=\"training loss\")\n",
        "plt.plot(validation_loss_values, 'r-o', label=\"validation loss\")\n",
        "\n",
        "\n",
        "plt.title(\"Learning curve\")\n",
        "plt.xlabel(\"Epoch\")\n",
        "plt.ylabel(\"Loss\")\n",
        "plt.legend()\n",
        "\n",
        "plt.show()\n"
      ],
      "execution_count": null,
      "outputs": [
        {
          "output_type": "display_data",
          "data": {
            "text/plain": [
              "<Figure size 864x432 with 1 Axes>"
            ],
            "image/png": "[encoded data removed]"
          },
          "metadata": {}
        }
      ]
    },
    {
      "cell_type": "markdown",
      "source": [
        "Testing the fine-tuned model on a sample sentence to detect entities"
      ],
      "metadata": {
        "id": "8ax1u5byelkz"
      }
    },
    {
      "metadata": {
        "trusted": true,
        "id": "HPdqKzo2zp-R"
      },
      "cell_type": "code",
      "source": [
        "# test_sentence = \"\"\"\n",
        "# SUBJECTIVE :This 23-year-old white female presents with complaint of allergies. She used to have allergies when she lived in Seattle but she thinks they are worse here. In the past, she has tried Claritin, and Zyrtec. Both worked for short time but then seemed to lose effectiveness. She has used Allegra also. She used that last summer and she began using it again two weeks ago. It does not appear to be working very well. She has used over-the-counter sprays but no prescription nasal sprays. She does have asthma but doest not require daily medication for this and does not think it is flaring up.,MEDICATIONS: Her only medication currently is Ortho Tri-Cyclen and the Allegra.,ALLERGIES: She has no known medicine allergies.,OBJECTIVE:,Vitals: Weight was 130 pounds and blood pressure 124/78.,HEENT: Her throat was mildly erythematous without exudate. Nasal mucosa was erythematous and swollen. Only clear drainage was seen. TMs were clear.,Neck: Supple without adenopathy.,Lungs: Clear.,ASSESSMENT :Allergic rhinitis.,PLAN:,1. She will try Zyrtec instead of Allegra again. Another option will be to use loratadine. She does not think she has prescription coverage so that might be cheaper.,2. Samples of Nasonex two sprays in each nostril given for three weeks. A prescription was written as well.\n",
        "# \"\"\"\n",
        "test_sentence = \" Androgen deprivation therapy (ADT) is the primary treatment for metastatic prostate cancer (PCa). However, most PCa patients receiving ADT develop recurrent castration-resistant prostate cancer (CRPC) within 3 years, with a median overall survival time of 1–2 years [1, 2]. Docetaxel is a commonly used cancer chemotherapy drug which belongs to the taxane class. Docetaxel is a synthetic analogue of paclitaxel, an extract from the bark of the rare Taxus brevifolia [3]. Docetaxel binds to the β-tubulin subunit of the microtubules, stabilizes the microtubule assembly, and prevents the depolymerization and disassembly of microtubule [4]. As a result, docetaxel reduces free tubulin in cytoplasm, inhibits the mitotic cell division, and suppresses the proliferation and survival of cancer cells [4]. Treatment with docetaxel plus prednisone has been approved by USFDA as a first-line treatment for CRPC patients. Patients with metastatic hormone-sensitive PCa receiving ADT plus docetaxel had a medium overall survival of 57.6 months, which was 13.6 months longer than that of patients receiving ADT alone [5]. Treatment with docetaxel and prednisone or docetaxel and estramustine for metastatic CRPC patients results in superior survival, improved rates of response in terms of pain, lower serum PSA level, and better quality of life as compared to treatment with mitoxantrone plus prednisone [6, 7]. However, a significant proportion of PCa patients receiving docetaxel-based therapy ultimately develop drug resistance [8, 9]. Several mechanisms have been reported to contribute to the development of docetaxel-resistance, including mutations in microtubule, evolution of cancer stem cells, elevation of Multi-Drug Resistance (MDR) family of efflux transporters, re-activation of androgen receptor (AR) signaling, upregulation of PI3K-AKT signaling [8], as well as dysregulation of PPARα (peroxisome proliferator-activated receptor α) signaling and CDH1 gene\""
      ],
      "execution_count": null,
      "outputs": []
    },
    {
      "metadata": {
        "trusted": true,
        "id": "DmSiFfAazp-S"
      },
      "cell_type": "code",
      "source": [
        "tokenized_sentence = tokenizer.encode(test_sentence)\n",
        "input_ids = torch.tensor([tokenized_sentence]).cuda()\n"
      ],
      "execution_count": null,
      "outputs": []
    },
    {
      "metadata": {
        "trusted": true,
        "id": "qJKkao8azp-T"
      },
      "cell_type": "code",
      "source": [
        "with torch.no_grad():\n",
        "    output = model(input_ids)\n",
        "label_indices = np.argmax(output[0].to('cpu').numpy(), axis=2)\n"
      ],
      "execution_count": null,
      "outputs": []
    },
    {
      "metadata": {
        "trusted": true,
        "id": "wU1xk9eizp-T"
      },
      "cell_type": "code",
      "source": [
        "tokens = tokenizer.convert_ids_to_tokens(input_ids.to('cpu').numpy()[0])\n",
        "new_tokens, new_labels = [], []\n",
        "for token, label_idx in zip(tokens, label_indices[0]):\n",
        "    if token.startswith(\"##\"):\n",
        "        new_tokens[-1] = new_tokens[-1] + token[2:]\n",
        "    else:\n",
        "        new_labels.append(tag_values[label_idx])\n",
        "        new_tokens.append(token)"
      ],
      "execution_count": null,
      "outputs": []
    },
    {
      "metadata": {
        "trusted": true,
        "colab": {
          "base_uri": "https://localhost:8080/"
        },
        "id": "VKGGycBDzp-T",
        "outputId": "87eb76f9-d2e6-4992-db55-6fe3b11f9726"
      },
      "cell_type": "code",
      "source": [
        "for token, label in zip(new_tokens, new_labels):\n",
        "    print(\"{}\\t{}\".format(label, token))"
      ],
      "execution_count": null,
      "outputs": [
        {
          "output_type": "stream",
          "name": "stdout",
          "text": [
            "O\t[CLS]\n",
            "B-Chemical\tAndrogen\n",
            "O\tdeprivation\n",
            "O\ttherapy\n",
            "O\t(\n",
            "B-Chemical\tADT\n",
            "O\t)\n",
            "O\tis\n",
            "O\tthe\n",
            "O\tprimary\n",
            "O\ttreatment\n",
            "O\tfor\n",
            "O\tmetastatic\n",
            "B-Disease\tprostate\n",
            "I-Disease\tcancer\n",
            "O\t(\n",
            "O\tPCa\n",
            "O\t)\n",
            "O\t.\n",
            "O\tHowever\n",
            "O\t,\n",
            "O\tmost\n",
            "O\tPCa\n",
            "O\tpatients\n",
            "O\treceiving\n",
            "B-Chemical\tADT\n",
            "O\tdevelop\n",
            "O\trecurrent\n",
            "O\tcastration\n",
            "O\t-\n",
            "O\tresistant\n",
            "B-Disease\tprostate\n",
            "I-Disease\tcancer\n",
            "O\t(\n",
            "O\tCRPC\n",
            "O\t)\n",
            "O\twithin\n",
            "O\t3\n",
            "O\tyears\n",
            "O\t,\n",
            "O\twith\n",
            "O\ta\n",
            "O\tmedian\n",
            "O\toverall\n",
            "O\tsurvival\n",
            "O\ttime\n",
            "O\tof\n",
            "O\t1\n",
            "O\t–\n",
            "O\t2\n",
            "O\tyears\n",
            "O\t[\n",
            "O\t1\n",
            "O\t,\n",
            "O\t2\n",
            "O\t]\n",
            "O\t.\n",
            "B-Chemical\tDocetaxel\n",
            "O\tis\n",
            "O\ta\n",
            "O\tcommonly\n",
            "O\tused\n",
            "O\tcancer\n",
            "O\tchemotherapy\n",
            "O\tdrug\n",
            "O\twhich\n",
            "O\tbelongs\n",
            "O\tto\n",
            "O\tthe\n",
            "B-Chemical\ttaxane\n",
            "O\tclass\n",
            "O\t.\n",
            "O\tDocetaxel\n",
            "O\tis\n",
            "O\ta\n",
            "O\tsynthetic\n",
            "O\tanalogue\n",
            "O\tof\n",
            "B-Chemical\tpaclitaxel\n",
            "O\t,\n",
            "O\tan\n",
            "O\textract\n",
            "O\tfrom\n",
            "O\tthe\n",
            "O\tbark\n",
            "O\tof\n",
            "O\tthe\n",
            "O\trare\n",
            "O\tTaxus\n",
            "O\tbrevifolia\n",
            "O\t[\n",
            "O\t3\n",
            "O\t]\n",
            "O\t.\n",
            "O\tDocetaxel\n",
            "O\tbinds\n",
            "O\tto\n",
            "O\tthe\n",
            "O\tβ\n",
            "O\t-\n",
            "O\ttubulin\n",
            "O\tsubunit\n",
            "O\tof\n",
            "O\tthe\n",
            "O\tmicrotubules\n",
            "O\t,\n",
            "O\tstabilizes\n",
            "O\tthe\n",
            "O\tmicrotubule\n",
            "O\tassembly\n",
            "O\t,\n",
            "O\tand\n",
            "O\tprevents\n",
            "O\tthe\n",
            "O\tdepolymerization\n",
            "O\tand\n",
            "O\tdisassembly\n",
            "O\tof\n",
            "O\tmicrotubule\n",
            "O\t[\n",
            "O\t4\n",
            "O\t]\n",
            "O\t.\n",
            "O\tAs\n",
            "O\ta\n",
            "O\tresult\n",
            "O\t,\n",
            "B-Chemical\tdocetaxel\n",
            "O\treduces\n",
            "O\tfree\n",
            "O\ttubulin\n",
            "O\tin\n",
            "O\tcytoplasm\n",
            "O\t,\n",
            "O\tinhibits\n",
            "O\tthe\n",
            "O\tmitotic\n",
            "O\tcell\n",
            "O\tdivision\n",
            "O\t,\n",
            "O\tand\n",
            "O\tsuppresses\n",
            "O\tthe\n",
            "O\tproliferation\n",
            "O\tand\n",
            "O\tsurvival\n",
            "O\tof\n",
            "I-Disease\tcancer\n",
            "O\tcells\n",
            "O\t[\n",
            "O\t4\n",
            "O\t]\n",
            "O\t.\n",
            "O\tTreatment\n",
            "O\twith\n",
            "B-Chemical\tdocetaxel\n",
            "O\tplus\n",
            "O\tprednisone\n",
            "O\thas\n",
            "O\tbeen\n",
            "O\tapproved\n",
            "O\tby\n",
            "O\tUSFDA\n",
            "O\tas\n",
            "O\ta\n",
            "O\tfirst\n",
            "O\t-\n",
            "O\tline\n",
            "O\ttreatment\n",
            "O\tfor\n",
            "B-Chemical\tCRPC\n",
            "O\tpatients\n",
            "O\t.\n",
            "O\tPatients\n",
            "O\twith\n",
            "O\tmetastatic\n",
            "O\thormone\n",
            "O\t-\n",
            "O\tsensitive\n",
            "O\tPCa\n",
            "O\treceiving\n",
            "B-Chemical\tADT\n",
            "O\tplus\n",
            "B-Chemical\tdocetaxel\n",
            "O\thad\n",
            "O\ta\n",
            "O\tmedium\n",
            "O\toverall\n",
            "O\tsurvival\n",
            "O\tof\n",
            "O\t57\n",
            "O\t.\n",
            "O\t6\n",
            "B-Chemical\tmonths\n",
            "O\t,\n",
            "O\twhich\n",
            "O\twas\n",
            "O\t13\n",
            "O\t.\n",
            "O\t6\n",
            "O\tmonths\n",
            "O\tlonger\n",
            "O\tthan\n",
            "O\tthat\n",
            "O\tof\n",
            "O\tpatients\n",
            "O\treceiving\n",
            "B-Chemical\tADT\n",
            "O\talone\n",
            "O\t[\n",
            "O\t5\n",
            "O\t]\n",
            "O\t.\n",
            "O\tTreatment\n",
            "O\twith\n",
            "B-Chemical\tdocetaxel\n",
            "O\tand\n",
            "B-Chemical\tprednisone\n",
            "O\tor\n",
            "B-Chemical\tdocetaxel\n",
            "O\tand\n",
            "B-Chemical\testramustine\n",
            "O\tfor\n",
            "O\tmetastatic\n",
            "O\tCRPC\n",
            "O\tpatients\n",
            "O\tresults\n",
            "O\tin\n",
            "O\tsuperior\n",
            "O\tsurvival\n",
            "O\t,\n",
            "O\timproved\n",
            "O\trates\n",
            "O\tof\n",
            "O\tresponse\n",
            "O\tin\n",
            "O\tterms\n",
            "O\tof\n",
            "B-Disease\tpain\n",
            "O\t,\n",
            "O\tlower\n",
            "O\tserum\n",
            "O\tPSA\n",
            "O\tlevel\n",
            "O\t,\n",
            "O\tand\n",
            "O\tbetter\n",
            "O\tquality\n",
            "O\tof\n",
            "O\tlife\n",
            "O\tas\n",
            "O\tcompared\n",
            "O\tto\n",
            "O\ttreatment\n",
            "O\twith\n",
            "O\tmitoxantrone\n",
            "O\tplus\n",
            "B-Chemical\tprednisone\n",
            "O\t[\n",
            "O\t6\n",
            "O\t,\n",
            "O\t7\n",
            "O\t]\n",
            "O\t.\n",
            "O\tHowever\n",
            "O\t,\n",
            "O\ta\n",
            "O\tsignificant\n",
            "O\tproportion\n",
            "O\tof\n",
            "O\tPCa\n",
            "O\tpatients\n",
            "O\treceiving\n",
            "B-Chemical\tdocetaxel\n",
            "O\t-\n",
            "O\tbased\n",
            "O\ttherapy\n",
            "O\tultimately\n",
            "O\tdevelop\n",
            "O\tdrug\n",
            "O\tresistance\n",
            "O\t[\n",
            "O\t8\n",
            "O\t,\n",
            "O\t9\n",
            "O\t]\n",
            "O\t.\n",
            "O\tSeveral\n",
            "O\tmechanisms\n",
            "O\thave\n",
            "O\tbeen\n",
            "O\treported\n",
            "O\tto\n",
            "O\tcontribute\n",
            "O\tto\n",
            "O\tthe\n",
            "O\tdevelopment\n",
            "O\tof\n",
            "B-Chemical\tdocetaxel\n",
            "O\t-\n",
            "O\tresistance\n",
            "O\t,\n",
            "O\tincluding\n",
            "O\tmutations\n",
            "O\tin\n",
            "O\tmicrotubule\n",
            "O\t,\n",
            "O\tevolution\n",
            "O\tof\n",
            "I-Disease\tcancer\n",
            "O\tstem\n",
            "O\tcells\n",
            "O\t,\n",
            "O\televation\n",
            "O\tof\n",
            "O\tMulti\n",
            "I-Disease\t-\n",
            "O\tDrug\n",
            "O\tResistance\n",
            "O\t(\n",
            "O\tMDR\n",
            "O\t)\n",
            "O\tfamily\n",
            "O\tof\n",
            "O\tefflux\n",
            "O\ttransporters\n",
            "O\t,\n",
            "O\tre\n",
            "O\t-\n",
            "O\tactivation\n",
            "O\tof\n",
            "O\tandrogen\n",
            "O\treceptor\n",
            "O\t(\n",
            "O\tAR\n",
            "O\t)\n",
            "O\tsignaling\n",
            "O\t,\n",
            "O\tupregulation\n",
            "O\tof\n",
            "O\tPI3K\n",
            "O\t-\n",
            "O\tAKT\n",
            "O\tsignaling\n",
            "O\t[\n",
            "O\t8\n",
            "O\t]\n",
            "O\t,\n",
            "O\tas\n",
            "O\twell\n",
            "O\tas\n",
            "O\tdysregulation\n",
            "O\tof\n",
            "O\tPPARα\n",
            "O\t(\n",
            "O\tperoxisome\n",
            "O\tproliferator\n",
            "O\t-\n",
            "O\tactivated\n",
            "O\treceptor\n",
            "O\tα\n",
            "O\t)\n",
            "O\tsignaling\n",
            "O\tand\n",
            "O\tCDH1\n",
            "O\tgene\n",
            "O\t[SEP]\n"
          ]
        }
      ]
    }
  ],
  "metadata": {
    "kernelspec": {
      "name": "python3",
      "display_name": "Python 3",
      "language": "python"
    },
    "language_info": {
      "name": "python",
      "version": "3.7.6",
      "mimetype": "text/x-python",
      "codemirror_mode": {
        "name": "ipython",
        "version": 3
      },
      "pygments_lexer": "ipython3",
      "nbconvert_exporter": "python",
      "file_extension": ".py"
    },
    "colab": {
      "name": "MedicalNER using Transformers",
      "provenance": [],
      "collapsed_sections": []
    },
    "accelerator": "GPU",
    "widgets": {
      "application/vnd.jupyter.widget-state+json": {
        "aee32f9e25794de48fb87a2aa476a83b": {
          "model_module": "@jupyter-widgets/controls",
          "model_name": "HBoxModel",
          "model_module_version": "1.5.0",
          "state": {
            "_dom_classes": [],
            "_model_module": "@jupyter-widgets/controls",
            "_model_module_version": "1.5.0",
            "_model_name": "HBoxModel",
            "_view_count": null,
            "_view_module": "@jupyter-widgets/controls",
            "_view_module_version": "1.5.0",
            "_view_name": "HBoxView",
            "box_style": "",
            "children": [
              "IPY_MODEL_a0f8ba45260c4c9da576d2dc8cfd65f5",
              "IPY_MODEL_1d041416d26a4046a97df741c34231e4",
              "IPY_MODEL_b2d308d8648342de91e248fb0ae2874a"
            ],
            "layout": "IPY_MODEL_aa4905b8876548e295af6631df345cf2"
          }
        },
        "a0f8ba45260c4c9da576d2dc8cfd65f5": {
          "model_module": "@jupyter-widgets/controls",
          "model_name": "HTMLModel",
          "model_module_version": "1.5.0",
          "state": {
            "_dom_classes": [],
            "_model_module": "@jupyter-widgets/controls",
            "_model_module_version": "1.5.0",
            "_model_name": "HTMLModel",
            "_view_count": null,
            "_view_module": "@jupyter-widgets/controls",
            "_view_module_version": "1.5.0",
            "_view_name": "HTMLView",
            "description": "",
            "description_tooltip": null,
            "layout": "IPY_MODEL_5a104f0086664855a88e1b786210eb54",
            "placeholder": "​",
            "style": "IPY_MODEL_20cb844af83a4bc8ab6d5a684db40797",
            "value": "Downloading: 100%"
          }
        },
        "1d041416d26a4046a97df741c34231e4": {
          "model_module": "@jupyter-widgets/controls",
          "model_name": "FloatProgressModel",
          "model_module_version": "1.5.0",
          "state": {
            "_dom_classes": [],
            "_model_module": "@jupyter-widgets/controls",
            "_model_module_version": "1.5.0",
            "_model_name": "FloatProgressModel",
            "_view_count": null,
            "_view_module": "@jupyter-widgets/controls",
            "_view_module_version": "1.5.0",
            "_view_name": "ProgressView",
            "bar_style": "success",
            "description": "",
            "description_tooltip": null,
            "layout": "IPY_MODEL_721397911c0f4f51a665ff5deb77276e",
            "max": 337,
            "min": 0,
            "orientation": "horizontal",
            "style": "IPY_MODEL_9cd8bd05d9404357996ad76cbaaee9e0",
            "value": 337
          }
        },
        "b2d308d8648342de91e248fb0ae2874a": {
          "model_module": "@jupyter-widgets/controls",
          "model_name": "HTMLModel",
          "model_module_version": "1.5.0",
          "state": {
            "_dom_classes": [],
            "_model_module": "@jupyter-widgets/controls",
            "_model_module_version": "1.5.0",
            "_model_name": "HTMLModel",
            "_view_count": null,
            "_view_module": "@jupyter-widgets/controls",
            "_view_module_version": "1.5.0",
            "_view_name": "HTMLView",
            "description": "",
            "description_tooltip": null,
            "layout": "IPY_MODEL_046802dae99d48c19300d0a83e316b0b",
            "placeholder": "​",
            "style": "IPY_MODEL_3780460442f4493387d5a1a12c2660c3",
            "value": " 337/337 [00:00&lt;00:00, 2.88kB/s]"
          }
        },
        "aa4905b8876548e295af6631df345cf2": {
          "model_module": "@jupyter-widgets/base",
          "model_name": "LayoutModel",
          "model_module_version": "1.2.0",
          "state": {
            "_model_module": "@jupyter-widgets/base",
            "_model_module_version": "1.2.0",
            "_model_name": "LayoutModel",
            "_view_count": null,
            "_view_module": "@jupyter-widgets/base",
            "_view_module_version": "1.2.0",
            "_view_name": "LayoutView",
            "align_content": null,
            "align_items": null,
            "align_self": null,
            "border": null,
            "bottom": null,
            "display": null,
            "flex": null,
            "flex_flow": null,
            "grid_area": null,
            "grid_auto_columns": null,
            "grid_auto_flow": null,
            "grid_auto_rows": null,
            "grid_column": null,
            "grid_gap": null,
            "grid_row": null,
            "grid_template_areas": null,
            "grid_template_columns": null,
            "grid_template_rows": null,
            "height": null,
            "justify_content": null,
            "justify_items": null,
            "left": null,
            "margin": null,
            "max_height": null,
            "max_width": null,
            "min_height": null,
            "min_width": null,
            "object_fit": null,
            "object_position": null,
            "order": null,
            "overflow": null,
            "overflow_x": null,
            "overflow_y": null,
            "padding": null,
            "right": null,
            "top": null,
            "visibility": null,
            "width": null
          }
        },
        "5a104f0086664855a88e1b786210eb54": {
          "model_module": "@jupyter-widgets/base",
          "model_name": "LayoutModel",
          "model_module_version": "1.2.0",
          "state": {
            "_model_module": "@jupyter-widgets/base",
            "_model_module_version": "1.2.0",
            "_model_name": "LayoutModel",
            "_view_count": null,
            "_view_module": "@jupyter-widgets/base",
            "_view_module_version": "1.2.0",
            "_view_name": "LayoutView",
            "align_content": null,
            "align_items": null,
            "align_self": null,
            "border": null,
            "bottom": null,
            "display": null,
            "flex": null,
            "flex_flow": null,
            "grid_area": null,
            "grid_auto_columns": null,
            "grid_auto_flow": null,
            "grid_auto_rows": null,
            "grid_column": null,
            "grid_gap": null,
            "grid_row": null,
            "grid_template_areas": null,
            "grid_template_columns": null,
            "grid_template_rows": null,
            "height": null,
            "justify_content": null,
            "justify_items": null,
            "left": null,
            "margin": null,
            "max_height": null,
            "max_width": null,
            "min_height": null,
            "min_width": null,
            "object_fit": null,
            "object_position": null,
            "order": null,
            "overflow": null,
            "overflow_x": null,
            "overflow_y": null,
            "padding": null,
            "right": null,
            "top": null,
            "visibility": null,
            "width": null
          }
        },
        "20cb844af83a4bc8ab6d5a684db40797": {
          "model_module": "@jupyter-widgets/controls",
          "model_name": "DescriptionStyleModel",
          "model_module_version": "1.5.0",
          "state": {
            "_model_module": "@jupyter-widgets/controls",
            "_model_module_version": "1.5.0",
            "_model_name": "DescriptionStyleModel",
            "_view_count": null,
            "_view_module": "@jupyter-widgets/base",
            "_view_module_version": "1.2.0",
            "_view_name": "StyleView",
            "description_width": ""
          }
        },
        "721397911c0f4f51a665ff5deb77276e": {
          "model_module": "@jupyter-widgets/base",
          "model_name": "LayoutModel",
          "model_module_version": "1.2.0",
          "state": {
            "_model_module": "@jupyter-widgets/base",
            "_model_module_version": "1.2.0",
            "_model_name": "LayoutModel",
            "_view_count": null,
            "_view_module": "@jupyter-widgets/base",
            "_view_module_version": "1.2.0",
            "_view_name": "LayoutView",
            "align_content": null,
            "align_items": null,
            "align_self": null,
            "border": null,
            "bottom": null,
            "display": null,
            "flex": null,
            "flex_flow": null,
            "grid_area": null,
            "grid_auto_columns": null,
            "grid_auto_flow": null,
            "grid_auto_rows": null,
            "grid_column": null,
            "grid_gap": null,
            "grid_row": null,
            "grid_template_areas": null,
            "grid_template_columns": null,
            "grid_template_rows": null,
            "height": null,
            "justify_content": null,
            "justify_items": null,
            "left": null,
            "margin": null,
            "max_height": null,
            "max_width": null,
            "min_height": null,
            "min_width": null,
            "object_fit": null,
            "object_position": null,
            "order": null,
            "overflow": null,
            "overflow_x": null,
            "overflow_y": null,
            "padding": null,
            "right": null,
            "top": null,
            "visibility": null,
            "width": null
          }
        },
        "9cd8bd05d9404357996ad76cbaaee9e0": {
          "model_module": "@jupyter-widgets/controls",
          "model_name": "ProgressStyleModel",
          "model_module_version": "1.5.0",
          "state": {
            "_model_module": "@jupyter-widgets/controls",
            "_model_module_version": "1.5.0",
            "_model_name": "ProgressStyleModel",
            "_view_count": null,
            "_view_module": "@jupyter-widgets/base",
            "_view_module_version": "1.2.0",
            "_view_name": "StyleView",
            "bar_color": null,
            "description_width": ""
          }
        },
        "046802dae99d48c19300d0a83e316b0b": {
          "model_module": "@jupyter-widgets/base",
          "model_name": "LayoutModel",
          "model_module_version": "1.2.0",
          "state": {
            "_model_module": "@jupyter-widgets/base",
            "_model_module_version": "1.2.0",
            "_model_name": "LayoutModel",
            "_view_count": null,
            "_view_module": "@jupyter-widgets/base",
            "_view_module_version": "1.2.0",
            "_view_name": "LayoutView",
            "align_content": null,
            "align_items": null,
            "align_self": null,
            "border": null,
            "bottom": null,
            "display": null,
            "flex": null,
            "flex_flow": null,
            "grid_area": null,
            "grid_auto_columns": null,
            "grid_auto_flow": null,
            "grid_auto_rows": null,
            "grid_column": null,
            "grid_gap": null,
            "grid_row": null,
            "grid_template_areas": null,
            "grid_template_columns": null,
            "grid_template_rows": null,
            "height": null,
            "justify_content": null,
            "justify_items": null,
            "left": null,
            "margin": null,
            "max_height": null,
            "max_width": null,
            "min_height": null,
            "min_width": null,
            "object_fit": null,
            "object_position": null,
            "order": null,
            "overflow": null,
            "overflow_x": null,
            "overflow_y": null,
            "padding": null,
            "right": null,
            "top": null,
            "visibility": null,
            "width": null
          }
        },
        "3780460442f4493387d5a1a12c2660c3": {
          "model_module": "@jupyter-widgets/controls",
          "model_name": "DescriptionStyleModel",
          "model_module_version": "1.5.0",
          "state": {
            "_model_module": "@jupyter-widgets/controls",
            "_model_module_version": "1.5.0",
            "_model_name": "DescriptionStyleModel",
            "_view_count": null,
            "_view_module": "@jupyter-widgets/base",
            "_view_module_version": "1.2.0",
            "_view_name": "StyleView",
            "description_width": ""
          }
        },
        "2b13a271835348a59a095420c403fdc5": {
          "model_module": "@jupyter-widgets/controls",
          "model_name": "HBoxModel",
          "model_module_version": "1.5.0",
          "state": {
            "_dom_classes": [],
            "_model_module": "@jupyter-widgets/controls",
            "_model_module_version": "1.5.0",
            "_model_name": "HBoxModel",
            "_view_count": null,
            "_view_module": "@jupyter-widgets/controls",
            "_view_module_version": "1.5.0",
            "_view_name": "HBoxView",
            "box_style": "",
            "children": [
              "IPY_MODEL_61037ff72b0e497792caa4b7ffda92e3",
              "IPY_MODEL_2780562ef96c4410b2cc122d7a8ac76b",
              "IPY_MODEL_bda14f35ce4841d188c2c3832db5c527"
            ],
            "layout": "IPY_MODEL_eda422effc294155b249a28df2d846c3"
          }
        },
        "61037ff72b0e497792caa4b7ffda92e3": {
          "model_module": "@jupyter-widgets/controls",
          "model_name": "HTMLModel",
          "model_module_version": "1.5.0",
          "state": {
            "_dom_classes": [],
            "_model_module": "@jupyter-widgets/controls",
            "_model_module_version": "1.5.0",
            "_model_name": "HTMLModel",
            "_view_count": null,
            "_view_module": "@jupyter-widgets/controls",
            "_view_module_version": "1.5.0",
            "_view_name": "HTMLView",
            "description": "",
            "description_tooltip": null,
            "layout": "IPY_MODEL_94562ac5b2bb451c94ece6d85c319d34",
            "placeholder": "​",
            "style": "IPY_MODEL_3cb30fab5b354bce9473bed74210a771",
            "value": "Downloading: 100%"
          }
        },
        "2780562ef96c4410b2cc122d7a8ac76b": {
          "model_module": "@jupyter-widgets/controls",
          "model_name": "FloatProgressModel",
          "model_module_version": "1.5.0",
          "state": {
            "_dom_classes": [],
            "_model_module": "@jupyter-widgets/controls",
            "_model_module_version": "1.5.0",
            "_model_name": "FloatProgressModel",
            "_view_count": null,
            "_view_module": "@jupyter-widgets/controls",
            "_view_module_version": "1.5.0",
            "_view_name": "ProgressView",
            "bar_style": "success",
            "description": "",
            "description_tooltip": null,
            "layout": "IPY_MODEL_75978859459b4fd1b9ae5f8c908ba3a3",
            "max": 225062,
            "min": 0,
            "orientation": "horizontal",
            "style": "IPY_MODEL_17b169fd49774218b27cd8e29cbee8e9",
            "value": 225062
          }
        },
        "bda14f35ce4841d188c2c3832db5c527": {
          "model_module": "@jupyter-widgets/controls",
          "model_name": "HTMLModel",
          "model_module_version": "1.5.0",
          "state": {
            "_dom_classes": [],
            "_model_module": "@jupyter-widgets/controls",
            "_model_module_version": "1.5.0",
            "_model_name": "HTMLModel",
            "_view_count": null,
            "_view_module": "@jupyter-widgets/controls",
            "_view_module_version": "1.5.0",
            "_view_name": "HTMLView",
            "description": "",
            "description_tooltip": null,
            "layout": "IPY_MODEL_e1ff5f29927d4a3fae393ec61daf5df4",
            "placeholder": "​",
            "style": "IPY_MODEL_6a669686d1ee470a8de3585f6e490eff",
            "value": " 225k/225k [00:00&lt;00:00, 604kB/s]"
          }
        },
        "eda422effc294155b249a28df2d846c3": {
          "model_module": "@jupyter-widgets/base",
          "model_name": "LayoutModel",
          "model_module_version": "1.2.0",
          "state": {
            "_model_module": "@jupyter-widgets/base",
            "_model_module_version": "1.2.0",
            "_model_name": "LayoutModel",
            "_view_count": null,
            "_view_module": "@jupyter-widgets/base",
            "_view_module_version": "1.2.0",
            "_view_name": "LayoutView",
            "align_content": null,
            "align_items": null,
            "align_self": null,
            "border": null,
            "bottom": null,
            "display": null,
            "flex": null,
            "flex_flow": null,
            "grid_area": null,
            "grid_auto_columns": null,
            "grid_auto_flow": null,
            "grid_auto_rows": null,
            "grid_column": null,
            "grid_gap": null,
            "grid_row": null,
            "grid_template_areas": null,
            "grid_template_columns": null,
            "grid_template_rows": null,
            "height": null,
            "justify_content": null,
            "justify_items": null,
            "left": null,
            "margin": null,
            "max_height": null,
            "max_width": null,
            "min_height": null,
            "min_width": null,
            "object_fit": null,
            "object_position": null,
            "order": null,
            "overflow": null,
            "overflow_x": null,
            "overflow_y": null,
            "padding": null,
            "right": null,
            "top": null,
            "visibility": null,
            "width": null
          }
        },
        "94562ac5b2bb451c94ece6d85c319d34": {
          "model_module": "@jupyter-widgets/base",
          "model_name": "LayoutModel",
          "model_module_version": "1.2.0",
          "state": {
            "_model_module": "@jupyter-widgets/base",
            "_model_module_version": "1.2.0",
            "_model_name": "LayoutModel",
            "_view_count": null,
            "_view_module": "@jupyter-widgets/base",
            "_view_module_version": "1.2.0",
            "_view_name": "LayoutView",
            "align_content": null,
            "align_items": null,
            "align_self": null,
            "border": null,
            "bottom": null,
            "display": null,
            "flex": null,
            "flex_flow": null,
            "grid_area": null,
            "grid_auto_columns": null,
            "grid_auto_flow": null,
            "grid_auto_rows": null,
            "grid_column": null,
            "grid_gap": null,
            "grid_row": null,
            "grid_template_areas": null,
            "grid_template_columns": null,
            "grid_template_rows": null,
            "height": null,
            "justify_content": null,
            "justify_items": null,
            "left": null,
            "margin": null,
            "max_height": null,
            "max_width": null,
            "min_height": null,
            "min_width": null,
            "object_fit": null,
            "object_position": null,
            "order": null,
            "overflow": null,
            "overflow_x": null,
            "overflow_y": null,
            "padding": null,
            "right": null,
            "top": null,
            "visibility": null,
            "width": null
          }
        },
        "3cb30fab5b354bce9473bed74210a771": {
          "model_module": "@jupyter-widgets/controls",
          "model_name": "DescriptionStyleModel",
          "model_module_version": "1.5.0",
          "state": {
            "_model_module": "@jupyter-widgets/controls",
            "_model_module_version": "1.5.0",
            "_model_name": "DescriptionStyleModel",
            "_view_count": null,
            "_view_module": "@jupyter-widgets/base",
            "_view_module_version": "1.2.0",
            "_view_name": "StyleView",
            "description_width": ""
          }
        },
        "75978859459b4fd1b9ae5f8c908ba3a3": {
          "model_module": "@jupyter-widgets/base",
          "model_name": "LayoutModel",
          "model_module_version": "1.2.0",
          "state": {
            "_model_module": "@jupyter-widgets/base",
            "_model_module_version": "1.2.0",
            "_model_name": "LayoutModel",
            "_view_count": null,
            "_view_module": "@jupyter-widgets/base",
            "_view_module_version": "1.2.0",
            "_view_name": "LayoutView",
            "align_content": null,
            "align_items": null,
            "align_self": null,
            "border": null,
            "bottom": null,
            "display": null,
            "flex": null,
            "flex_flow": null,
            "grid_area": null,
            "grid_auto_columns": null,
            "grid_auto_flow": null,
            "grid_auto_rows": null,
            "grid_column": null,
            "grid_gap": null,
            "grid_row": null,
            "grid_template_areas": null,
            "grid_template_columns": null,
            "grid_template_rows": null,
            "height": null,
            "justify_content": null,
            "justify_items": null,
            "left": null,
            "margin": null,
            "max_height": null,
            "max_width": null,
            "min_height": null,
            "min_width": null,
            "object_fit": null,
            "object_position": null,
            "order": null,
            "overflow": null,
            "overflow_x": null,
            "overflow_y": null,
            "padding": null,
            "right": null,
            "top": null,
            "visibility": null,
            "width": null
          }
        },
        "17b169fd49774218b27cd8e29cbee8e9": {
          "model_module": "@jupyter-widgets/controls",
          "model_name": "ProgressStyleModel",
          "model_module_version": "1.5.0",
          "state": {
            "_model_module": "@jupyter-widgets/controls",
            "_model_module_version": "1.5.0",
            "_model_name": "ProgressStyleModel",
            "_view_count": null,
            "_view_module": "@jupyter-widgets/base",
            "_view_module_version": "1.2.0",
            "_view_name": "StyleView",
            "bar_color": null,
            "description_width": ""
          }
        },
        "e1ff5f29927d4a3fae393ec61daf5df4": {
          "model_module": "@jupyter-widgets/base",
          "model_name": "LayoutModel",
          "model_module_version": "1.2.0",
          "state": {
            "_model_module": "@jupyter-widgets/base",
            "_model_module_version": "1.2.0",
            "_model_name": "LayoutModel",
            "_view_count": null,
            "_view_module": "@jupyter-widgets/base",
            "_view_module_version": "1.2.0",
            "_view_name": "LayoutView",
            "align_content": null,
            "align_items": null,
            "align_self": null,
            "border": null,
            "bottom": null,
            "display": null,
            "flex": null,
            "flex_flow": null,
            "grid_area": null,
            "grid_auto_columns": null,
            "grid_auto_flow": null,
            "grid_auto_rows": null,
            "grid_column": null,
            "grid_gap": null,
            "grid_row": null,
            "grid_template_areas": null,
            "grid_template_columns": null,
            "grid_template_rows": null,
            "height": null,
            "justify_content": null,
            "justify_items": null,
            "left": null,
            "margin": null,
            "max_height": null,
            "max_width": null,
            "min_height": null,
            "min_width": null,
            "object_fit": null,
            "object_position": null,
            "order": null,
            "overflow": null,
            "overflow_x": null,
            "overflow_y": null,
            "padding": null,
            "right": null,
            "top": null,
            "visibility": null,
            "width": null
          }
        },
        "6a669686d1ee470a8de3585f6e490eff": {
          "model_module": "@jupyter-widgets/controls",
          "model_name": "DescriptionStyleModel",
          "model_module_version": "1.5.0",
          "state": {
            "_model_module": "@jupyter-widgets/controls",
            "_model_module_version": "1.5.0",
            "_model_name": "DescriptionStyleModel",
            "_view_count": null,
            "_view_module": "@jupyter-widgets/base",
            "_view_module_version": "1.2.0",
            "_view_name": "StyleView",
            "description_width": ""
          }
        },
        "fc614ea2f0d24e81a102ddcb78154705": {
          "model_module": "@jupyter-widgets/controls",
          "model_name": "HBoxModel",
          "model_module_version": "1.5.0",
          "state": {
            "_dom_classes": [],
            "_model_module": "@jupyter-widgets/controls",
            "_model_module_version": "1.5.0",
            "_model_name": "HBoxModel",
            "_view_count": null,
            "_view_module": "@jupyter-widgets/controls",
            "_view_module_version": "1.5.0",
            "_view_name": "HBoxView",
            "box_style": "",
            "children": [
              "IPY_MODEL_92f4a977aa2f4b188002af7edb87e370",
              "IPY_MODEL_a7cda059c63d40f1babd6fb3d4a6f33b",
              "IPY_MODEL_d471789d3cc04c81b1c3165d824fecbc"
            ],
            "layout": "IPY_MODEL_11d95b15fc0240d29830703070e9fe9f"
          }
        },
        "92f4a977aa2f4b188002af7edb87e370": {
          "model_module": "@jupyter-widgets/controls",
          "model_name": "HTMLModel",
          "model_module_version": "1.5.0",
          "state": {
            "_dom_classes": [],
            "_model_module": "@jupyter-widgets/controls",
            "_model_module_version": "1.5.0",
            "_model_name": "HTMLModel",
            "_view_count": null,
            "_view_module": "@jupyter-widgets/controls",
            "_view_module_version": "1.5.0",
            "_view_name": "HTMLView",
            "description": "",
            "description_tooltip": null,
            "layout": "IPY_MODEL_651f15fff0cf4c5f833c3537c18d8489",
            "placeholder": "​",
            "style": "IPY_MODEL_e84b6be45c5242f9817607abf30161b1",
            "value": "Downloading: 100%"
          }
        },
        "a7cda059c63d40f1babd6fb3d4a6f33b": {
          "model_module": "@jupyter-widgets/controls",
          "model_name": "FloatProgressModel",
          "model_module_version": "1.5.0",
          "state": {
            "_dom_classes": [],
            "_model_module": "@jupyter-widgets/controls",
            "_model_module_version": "1.5.0",
            "_model_name": "FloatProgressModel",
            "_view_count": null,
            "_view_module": "@jupyter-widgets/controls",
            "_view_module_version": "1.5.0",
            "_view_name": "ProgressView",
            "bar_style": "success",
            "description": "",
            "description_tooltip": null,
            "layout": "IPY_MODEL_7f979935d8d14d5797044684a6720eba",
            "max": 440472042,
            "min": 0,
            "orientation": "horizontal",
            "style": "IPY_MODEL_e8c9f5caee4b4e538bc35cee217848a6",
            "value": 440472042
          }
        },
        "d471789d3cc04c81b1c3165d824fecbc": {
          "model_module": "@jupyter-widgets/controls",
          "model_name": "HTMLModel",
          "model_module_version": "1.5.0",
          "state": {
            "_dom_classes": [],
            "_model_module": "@jupyter-widgets/controls",
            "_model_module_version": "1.5.0",
            "_model_name": "HTMLModel",
            "_view_count": null,
            "_view_module": "@jupyter-widgets/controls",
            "_view_module_version": "1.5.0",
            "_view_name": "HTMLView",
            "description": "",
            "description_tooltip": null,
            "layout": "IPY_MODEL_e5815f33f1564ab882000ff65a00b890",
            "placeholder": "​",
            "style": "IPY_MODEL_746f21bd3bab41d29aada71f7bcf7994",
            "value": " 440M/440M [00:32&lt;00:00, 13.6MB/s]"
          }
        },
        "11d95b15fc0240d29830703070e9fe9f": {
          "model_module": "@jupyter-widgets/base",
          "model_name": "LayoutModel",
          "model_module_version": "1.2.0",
          "state": {
            "_model_module": "@jupyter-widgets/base",
            "_model_module_version": "1.2.0",
            "_model_name": "LayoutModel",
            "_view_count": null,
            "_view_module": "@jupyter-widgets/base",
            "_view_module_version": "1.2.0",
            "_view_name": "LayoutView",
            "align_content": null,
            "align_items": null,
            "align_self": null,
            "border": null,
            "bottom": null,
            "display": null,
            "flex": null,
            "flex_flow": null,
            "grid_area": null,
            "grid_auto_columns": null,
            "grid_auto_flow": null,
            "grid_auto_rows": null,
            "grid_column": null,
            "grid_gap": null,
            "grid_row": null,
            "grid_template_areas": null,
            "grid_template_columns": null,
            "grid_template_rows": null,
            "height": null,
            "justify_content": null,
            "justify_items": null,
            "left": null,
            "margin": null,
            "max_height": null,
            "max_width": null,
            "min_height": null,
            "min_width": null,
            "object_fit": null,
            "object_position": null,
            "order": null,
            "overflow": null,
            "overflow_x": null,
            "overflow_y": null,
            "padding": null,
            "right": null,
            "top": null,
            "visibility": null,
            "width": null
          }
        },
        "651f15fff0cf4c5f833c3537c18d8489": {
          "model_module": "@jupyter-widgets/base",
          "model_name": "LayoutModel",
          "model_module_version": "1.2.0",
          "state": {
            "_model_module": "@jupyter-widgets/base",
            "_model_module_version": "1.2.0",
            "_model_name": "LayoutModel",
            "_view_count": null,
            "_view_module": "@jupyter-widgets/base",
            "_view_module_version": "1.2.0",
            "_view_name": "LayoutView",
            "align_content": null,
            "align_items": null,
            "align_self": null,
            "border": null,
            "bottom": null,
            "display": null,
            "flex": null,
            "flex_flow": null,
            "grid_area": null,
            "grid_auto_columns": null,
            "grid_auto_flow": null,
            "grid_auto_rows": null,
            "grid_column": null,
            "grid_gap": null,
            "grid_row": null,
            "grid_template_areas": null,
            "grid_template_columns": null,
            "grid_template_rows": null,
            "height": null,
            "justify_content": null,
            "justify_items": null,
            "left": null,
            "margin": null,
            "max_height": null,
            "max_width": null,
            "min_height": null,
            "min_width": null,
            "object_fit": null,
            "object_position": null,
            "order": null,
            "overflow": null,
            "overflow_x": null,
            "overflow_y": null,
            "padding": null,
            "right": null,
            "top": null,
            "visibility": null,
            "width": null
          }
        },
        "e84b6be45c5242f9817607abf30161b1": {
          "model_module": "@jupyter-widgets/controls",
          "model_name": "DescriptionStyleModel",
          "model_module_version": "1.5.0",
          "state": {
            "_model_module": "@jupyter-widgets/controls",
            "_model_module_version": "1.5.0",
            "_model_name": "DescriptionStyleModel",
            "_view_count": null,
            "_view_module": "@jupyter-widgets/base",
            "_view_module_version": "1.2.0",
            "_view_name": "StyleView",
            "description_width": ""
          }
        },
        "7f979935d8d14d5797044684a6720eba": {
          "model_module": "@jupyter-widgets/base",
          "model_name": "LayoutModel",
          "model_module_version": "1.2.0",
          "state": {
            "_model_module": "@jupyter-widgets/base",
            "_model_module_version": "1.2.0",
            "_model_name": "LayoutModel",
            "_view_count": null,
            "_view_module": "@jupyter-widgets/base",
            "_view_module_version": "1.2.0",
            "_view_name": "LayoutView",
            "align_content": null,
            "align_items": null,
            "align_self": null,
            "border": null,
            "bottom": null,
            "display": null,
            "flex": null,
            "flex_flow": null,
            "grid_area": null,
            "grid_auto_columns": null,
            "grid_auto_flow": null,
            "grid_auto_rows": null,
            "grid_column": null,
            "grid_gap": null,
            "grid_row": null,
            "grid_template_areas": null,
            "grid_template_columns": null,
            "grid_template_rows": null,
            "height": null,
            "justify_content": null,
            "justify_items": null,
            "left": null,
            "margin": null,
            "max_height": null,
            "max_width": null,
            "min_height": null,
            "min_width": null,
            "object_fit": null,
            "object_position": null,
            "order": null,
            "overflow": null,
            "overflow_x": null,
            "overflow_y": null,
            "padding": null,
            "right": null,
            "top": null,
            "visibility": null,
            "width": null
          }
        },
        "e8c9f5caee4b4e538bc35cee217848a6": {
          "model_module": "@jupyter-widgets/controls",
          "model_name": "ProgressStyleModel",
          "model_module_version": "1.5.0",
          "state": {
            "_model_module": "@jupyter-widgets/controls",
            "_model_module_version": "1.5.0",
            "_model_name": "ProgressStyleModel",
            "_view_count": null,
            "_view_module": "@jupyter-widgets/base",
            "_view_module_version": "1.2.0",
            "_view_name": "StyleView",
            "bar_color": null,
            "description_width": ""
          }
        },
        "e5815f33f1564ab882000ff65a00b890": {
          "model_module": "@jupyter-widgets/base",
          "model_name": "LayoutModel",
          "model_module_version": "1.2.0",
          "state": {
            "_model_module": "@jupyter-widgets/base",
            "_model_module_version": "1.2.0",
            "_model_name": "LayoutModel",
            "_view_count": null,
            "_view_module": "@jupyter-widgets/base",
            "_view_module_version": "1.2.0",
            "_view_name": "LayoutView",
            "align_content": null,
            "align_items": null,
            "align_self": null,
            "border": null,
            "bottom": null,
            "display": null,
            "flex": null,
            "flex_flow": null,
            "grid_area": null,
            "grid_auto_columns": null,
            "grid_auto_flow": null,
            "grid_auto_rows": null,
            "grid_column": null,
            "grid_gap": null,
            "grid_row": null,
            "grid_template_areas": null,
            "grid_template_columns": null,
            "grid_template_rows": null,
            "height": null,
            "justify_content": null,
            "justify_items": null,
            "left": null,
            "margin": null,
            "max_height": null,
            "max_width": null,
            "min_height": null,
            "min_width": null,
            "object_fit": null,
            "object_position": null,
            "order": null,
            "overflow": null,
            "overflow_x": null,
            "overflow_y": null,
            "padding": null,
            "right": null,
            "top": null,
            "visibility": null,
            "width": null
          }
        },
        "746f21bd3bab41d29aada71f7bcf7994": {
          "model_module": "@jupyter-widgets/controls",
          "model_name": "DescriptionStyleModel",
          "model_module_version": "1.5.0",
          "state": {
            "_model_module": "@jupyter-widgets/controls",
            "_model_module_version": "1.5.0",
            "_model_name": "DescriptionStyleModel",
            "_view_count": null,
            "_view_module": "@jupyter-widgets/base",
            "_view_module_version": "1.2.0",
            "_view_name": "StyleView",
            "description_width": ""
          }
        }
      }
    }
  },
  "nbformat": 4,
  "nbformat_minor": 0
}